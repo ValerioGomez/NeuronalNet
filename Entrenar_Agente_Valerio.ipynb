{
  "nbformat": 4,
  "nbformat_minor": 0,
  "metadata": {
    "colab": {
      "provenance": []
    },
    "kernelspec": {
      "name": "python3",
      "display_name": "Python 3"
    }
  },
  "cells": [
    {
      "cell_type": "code",
      "metadata": {
        "id": "pJDUaBEVI2zm",
        "colab": {
          "base_uri": "https://localhost:8080/",
          "height": 0
        },
        "outputId": "521d5012-8fcc-4b3d-f586-a80edf86ee21"
      },
      "source": [
        "import numpy as np\n",
        "import pandas as pd\n",
        "from google.colab import drive\n",
        "drive.mount('/content/drive')\n",
        "agente = pd.read_csv('/content/agenteData.csv')"
      ],
      "execution_count": 1,
      "outputs": [
        {
          "output_type": "stream",
          "name": "stdout",
          "text": [
            "Mounted at /content/drive\n"
          ]
        }
      ]
    },
    {
      "cell_type": "code",
      "source": [
        "nuevo_dataset = agente.copy()\n",
        "nuevo_dataset[['y', 'x1', 'x2', 'x3', 'x7', 'x12', 'x14', 'x16', 'x19']] = nuevo_dataset['y;x1;x2;x3;x7;x12;x14;x16;x19'].str.split(';', expand=True)\n",
        "nuevo_dataset[['y', 'x1', 'x2', 'x3', 'x7', 'x12', 'x14', 'x16', 'x19']] = nuevo_dataset[['y', 'x1', 'x2', 'x3', 'x7', 'x12', 'x14', 'x16', 'x19']].astype(int)\n",
        "nuevo_dataset = nuevo_dataset.drop(nuevo_dataset.columns[0], axis=1)\n",
        "#print(nuevo_dataset.iloc[49:60])\n",
        "print(nuevo_dataset.head())"
      ],
      "metadata": {
        "colab": {
          "base_uri": "https://localhost:8080/",
          "height": 0
        },
        "id": "VlubhDUm_UDb",
        "outputId": "c02fa715-9e0b-489b-ed45-46786d2dce19"
      },
      "execution_count": 2,
      "outputs": [
        {
          "output_type": "stream",
          "name": "stdout",
          "text": [
            "   y  x1  x2  x3  x7  x12  x14  x16  x19\n",
            "0  1  48  90  20  57   42    1    1   12\n",
            "1  1  99  75   8  67   23    1    1   11\n",
            "2  1  76  60  11  67   35    1    2   14\n",
            "3  1  39  65   8  67   29    1    1   13\n",
            "4  1  52  50   5  48   48    1    2   17\n"
          ]
        }
      ]
    },
    {
      "cell_type": "code",
      "source": [
        "import tensorflow as tf\n",
        "from sklearn.model_selection import train_test_split\n",
        "X = nuevo_dataset.iloc[:, 1:].values\n",
        "Y = nuevo_dataset.iloc[:, 0].values"
      ],
      "metadata": {
        "id": "ZhhE3dxbGVOB"
      },
      "execution_count": 3,
      "outputs": []
    },
    {
      "cell_type": "code",
      "source": [
        "X_train, X_test, y_train, y_test = train_test_split(X, Y, test_size=0.2, random_state=42)\n",
        "\n",
        "model = tf.keras.models.Sequential([\n",
        "    tf.keras.layers.Dense(10, activation='relu', input_shape=(8,)),\n",
        "    tf.keras.layers.Dense(1, activation='sigmoid')\n",
        "])"
      ],
      "metadata": {
        "id": "6kQBQhK5H8pK"
      },
      "execution_count": 4,
      "outputs": []
    },
    {
      "cell_type": "code",
      "source": [
        "model.compile(optimizer='adam',\n",
        "              loss='binary_crossentropy',\n",
        "              metrics=['accuracy'])\n",
        "model.fit(X_train, y_train, epochs=50, batch_size=32, verbose=1)\n",
        "\n",
        "loss, accuracy = model.evaluate(X_test, y_test)\n",
        "print(\"Pérdida en el conjunto de prueba:\", loss)\n",
        "print(\"Exactitud en el conjunto de prueba:\", accuracy)"
      ],
      "metadata": {
        "colab": {
          "base_uri": "https://localhost:8080/",
          "height": 0
        },
        "id": "wcmZLsq4JXAW",
        "outputId": "04d9a90d-3c8e-48ca-931e-fb3d9f3b6a37"
      },
      "execution_count": 5,
      "outputs": [
        {
          "output_type": "stream",
          "name": "stdout",
          "text": [
            "Epoch 1/50\n",
            "4/4 [==============================] - 2s 9ms/step - loss: 41.6987 - accuracy: 0.5161\n",
            "Epoch 2/50\n",
            "4/4 [==============================] - 0s 7ms/step - loss: 40.2487 - accuracy: 0.5161\n",
            "Epoch 3/50\n",
            "4/4 [==============================] - 0s 7ms/step - loss: 38.7775 - accuracy: 0.5161\n",
            "Epoch 4/50\n",
            "4/4 [==============================] - 0s 6ms/step - loss: 37.2548 - accuracy: 0.5161\n",
            "Epoch 5/50\n",
            "4/4 [==============================] - 0s 6ms/step - loss: 35.7867 - accuracy: 0.5161\n",
            "Epoch 6/50\n",
            "4/4 [==============================] - 0s 12ms/step - loss: 34.3727 - accuracy: 0.5161\n",
            "Epoch 7/50\n",
            "4/4 [==============================] - 0s 4ms/step - loss: 32.9204 - accuracy: 0.5161\n",
            "Epoch 8/50\n",
            "4/4 [==============================] - 0s 7ms/step - loss: 31.5467 - accuracy: 0.5161\n",
            "Epoch 9/50\n",
            "4/4 [==============================] - 0s 6ms/step - loss: 30.2184 - accuracy: 0.5161\n",
            "Epoch 10/50\n",
            "4/4 [==============================] - 0s 4ms/step - loss: 28.8237 - accuracy: 0.5161\n",
            "Epoch 11/50\n",
            "4/4 [==============================] - 0s 4ms/step - loss: 27.5074 - accuracy: 0.5161\n",
            "Epoch 12/50\n",
            "4/4 [==============================] - 0s 4ms/step - loss: 26.2009 - accuracy: 0.5161\n",
            "Epoch 13/50\n",
            "4/4 [==============================] - 0s 4ms/step - loss: 24.8382 - accuracy: 0.5161\n",
            "Epoch 14/50\n",
            "4/4 [==============================] - 0s 5ms/step - loss: 23.5110 - accuracy: 0.5161\n",
            "Epoch 15/50\n",
            "4/4 [==============================] - 0s 5ms/step - loss: 22.2573 - accuracy: 0.5161\n",
            "Epoch 16/50\n",
            "4/4 [==============================] - 0s 5ms/step - loss: 21.0007 - accuracy: 0.5161\n",
            "Epoch 17/50\n",
            "4/4 [==============================] - 0s 4ms/step - loss: 19.7207 - accuracy: 0.5161\n",
            "Epoch 18/50\n",
            "4/4 [==============================] - 0s 4ms/step - loss: 18.4432 - accuracy: 0.5161\n",
            "Epoch 19/50\n",
            "4/4 [==============================] - 0s 4ms/step - loss: 17.2391 - accuracy: 0.5161\n",
            "Epoch 20/50\n",
            "4/4 [==============================] - 0s 4ms/step - loss: 16.0152 - accuracy: 0.5161\n",
            "Epoch 21/50\n",
            "4/4 [==============================] - 0s 5ms/step - loss: 14.8002 - accuracy: 0.5161\n",
            "Epoch 22/50\n",
            "4/4 [==============================] - 0s 6ms/step - loss: 13.5761 - accuracy: 0.5161\n",
            "Epoch 23/50\n",
            "4/4 [==============================] - 0s 5ms/step - loss: 12.3934 - accuracy: 0.5161\n",
            "Epoch 24/50\n",
            "4/4 [==============================] - 0s 4ms/step - loss: 11.2282 - accuracy: 0.5161\n",
            "Epoch 25/50\n",
            "4/4 [==============================] - 0s 4ms/step - loss: 10.0326 - accuracy: 0.5161\n",
            "Epoch 26/50\n",
            "4/4 [==============================] - 0s 4ms/step - loss: 8.8731 - accuracy: 0.5161\n",
            "Epoch 27/50\n",
            "4/4 [==============================] - 0s 4ms/step - loss: 7.7175 - accuracy: 0.5161\n",
            "Epoch 28/50\n",
            "4/4 [==============================] - 0s 4ms/step - loss: 6.5535 - accuracy: 0.5161\n",
            "Epoch 29/50\n",
            "4/4 [==============================] - 0s 4ms/step - loss: 5.4346 - accuracy: 0.5161\n",
            "Epoch 30/50\n",
            "4/4 [==============================] - 0s 4ms/step - loss: 4.3517 - accuracy: 0.5161\n",
            "Epoch 31/50\n",
            "4/4 [==============================] - 0s 4ms/step - loss: 3.3395 - accuracy: 0.5081\n",
            "Epoch 32/50\n",
            "4/4 [==============================] - 0s 4ms/step - loss: 2.5309 - accuracy: 0.4919\n",
            "Epoch 33/50\n",
            "4/4 [==============================] - 0s 5ms/step - loss: 2.2039 - accuracy: 0.4355\n",
            "Epoch 34/50\n",
            "4/4 [==============================] - 0s 4ms/step - loss: 2.1057 - accuracy: 0.4194\n",
            "Epoch 35/50\n",
            "4/4 [==============================] - 0s 6ms/step - loss: 2.1324 - accuracy: 0.4113\n",
            "Epoch 36/50\n",
            "4/4 [==============================] - 0s 4ms/step - loss: 2.1600 - accuracy: 0.4113\n",
            "Epoch 37/50\n",
            "4/4 [==============================] - 0s 4ms/step - loss: 2.1398 - accuracy: 0.4113\n",
            "Epoch 38/50\n",
            "4/4 [==============================] - 0s 4ms/step - loss: 2.0912 - accuracy: 0.4194\n",
            "Epoch 39/50\n",
            "4/4 [==============================] - 0s 4ms/step - loss: 2.0405 - accuracy: 0.4032\n",
            "Epoch 40/50\n",
            "4/4 [==============================] - 0s 4ms/step - loss: 1.9726 - accuracy: 0.4032\n",
            "Epoch 41/50\n",
            "4/4 [==============================] - 0s 4ms/step - loss: 1.9472 - accuracy: 0.4274\n",
            "Epoch 42/50\n",
            "4/4 [==============================] - 0s 5ms/step - loss: 1.9109 - accuracy: 0.4597\n",
            "Epoch 43/50\n",
            "4/4 [==============================] - 0s 5ms/step - loss: 1.8947 - accuracy: 0.4597\n",
            "Epoch 44/50\n",
            "4/4 [==============================] - 0s 6ms/step - loss: 1.8737 - accuracy: 0.4677\n",
            "Epoch 45/50\n",
            "4/4 [==============================] - 0s 5ms/step - loss: 1.8571 - accuracy: 0.4758\n",
            "Epoch 46/50\n",
            "4/4 [==============================] - 0s 5ms/step - loss: 1.8313 - accuracy: 0.4677\n",
            "Epoch 47/50\n",
            "4/4 [==============================] - 0s 4ms/step - loss: 1.8027 - accuracy: 0.4677\n",
            "Epoch 48/50\n",
            "4/4 [==============================] - 0s 6ms/step - loss: 1.7814 - accuracy: 0.4597\n",
            "Epoch 49/50\n",
            "4/4 [==============================] - 0s 4ms/step - loss: 1.7598 - accuracy: 0.4435\n",
            "Epoch 50/50\n",
            "4/4 [==============================] - 0s 4ms/step - loss: 1.7344 - accuracy: 0.4516\n",
            "1/1 [==============================] - 0s 180ms/step - loss: 1.0592 - accuracy: 0.5484\n",
            "Pérdida en el conjunto de prueba: 1.059220552444458\n",
            "Exactitud en el conjunto de prueba: 0.5483871102333069\n"
          ]
        }
      ]
    },
    {
      "cell_type": "code",
      "source": [
        "entrada = np.array([[40,25,3,54,45,0,3,12]])\n",
        "prediccion = model.predict(entrada)\n",
        "prediccion_redondeada = np.round(prediccion).flatten()\n",
        "\n",
        "print(\"Predicción de Y:\", prediccion_redondeada)"
      ],
      "metadata": {
        "colab": {
          "base_uri": "https://localhost:8080/",
          "height": 0
        },
        "id": "szMnJurRItfn",
        "outputId": "925f3da0-975a-4d87-d1b6-3e1e225bc281"
      },
      "execution_count": 9,
      "outputs": [
        {
          "output_type": "stream",
          "name": "stdout",
          "text": [
            "1/1 [==============================] - 0s 24ms/step\n",
            "Predicción de Y: [1.]\n"
          ]
        }
      ]
    },
    {
      "cell_type": "code",
      "source": [
        "print(nuevo_dataset.iloc[49:60])"
      ],
      "metadata": {
        "id": "bMYdWU6aIDmO",
        "colab": {
          "base_uri": "https://localhost:8080/",
          "height": 0
        },
        "outputId": "493a0911-e8a8-4b55-af51-c58645ba0f53"
      },
      "execution_count": 8,
      "outputs": [
        {
          "output_type": "stream",
          "name": "stdout",
          "text": [
            "    y  x1  x2  x3  x7  x12  x14  x16  x19\n",
            "49  1  40  25   3  54   45    0    3   12\n",
            "50  1  40  25   4  45   50    0    4   13\n",
            "51  1  42  50   4  59   57    0    2   16\n",
            "52  1  51  20  25  54   43    0    2   13\n",
            "53  0  47  30   1  47   40    0    3   14\n",
            "54  0  45  70   1  61   36    0    3   12\n",
            "55  0  48  60   6  61   38    0    2   13\n",
            "56  0  49  60   1  46   46    0    4   18\n",
            "57  0  42  60   6  47   51    1    1   16\n",
            "58  0  43  70   2  59   77    1    2   14\n",
            "59  0  58  25   1  61   45    0    2   16\n"
          ]
        }
      ]
    },
    {
      "cell_type": "code",
      "source": [],
      "metadata": {
        "id": "rRSJ6WwH9TGh"
      },
      "execution_count": null,
      "outputs": []
    }
  ]
}