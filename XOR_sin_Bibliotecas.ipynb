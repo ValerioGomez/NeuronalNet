{
  "nbformat": 4,
  "nbformat_minor": 0,
  "metadata": {
    "colab": {
      "provenance": []
    },
    "kernelspec": {
      "name": "python3",
      "display_name": "Python 3"
    },
    "language_info": {
      "name": "python"
    }
  },
  "cells": [
    {
      "cell_type": "code",
      "execution_count": null,
      "metadata": {
        "id": "jXUtRiimi5IJ"
      },
      "outputs": [],
      "source": [
        "import numpy as np"
      ]
    },
    {
      "cell_type": "code",
      "source": [
        "inputs = np.array([[0,0,1],[0,1,1],[1,0,1],[1,1,1]])\n",
        "y = np.array([[0],[1],[1],[0]])"
      ],
      "metadata": {
        "id": "9Oj5bl6QsORz"
      },
      "execution_count": null,
      "outputs": []
    },
    {
      "cell_type": "code",
      "source": [
        "class NeuronaXOR():\n",
        "    def __init__(self, input_size, hidden_size, output_size):\n",
        "        self.input_size = input_size\n",
        "        self.hidden_size = hidden_size\n",
        "        self.output_size = output_size\n",
        "\n",
        "        self.W1 = np.array([[0.2, 0.3, -0.4],\n",
        "                            [0.4, -0.1, 0.2],\n",
        "                            [-0.3, 0.2, 0.1]])\n",
        "\n",
        "        self.W2 = np.array([[0.3],\n",
        "                            [-0.1],\n",
        "                            [0.2]])\n",
        "\n",
        "    def forward(self, X):\n",
        "        self.z1 = np.dot(X, self.W1)\n",
        "        self.a1 = self.sigmoid(self.z1)\n",
        "        self.z2 = np.dot(self.a1, self.W2)\n",
        "        self.output = self.sigmoid(self.z2)\n",
        "        return self.output\n",
        "\n",
        "    def backprop(self, X, y, lr):\n",
        "        output = self.forward(X)\n",
        "        error_out = output - y\n",
        "        delta_out = error_out * self.sigmoid_der(output)\n",
        "        derivative_W2 = np.dot(self.a1.T, delta_out)\n",
        "        error_hidden = np.dot(delta_out, self.W2.T)\n",
        "        delta_hidden = error_hidden * self.sigmoid_der(self.a1)\n",
        "        derivative_W1 = np.dot(X.T, delta_hidden)\n",
        "        # gradient descent\n",
        "        self.W2 -= derivative_W2 * lr\n",
        "        self.W1 -= derivative_W1 * lr\n",
        "        return self.mse(output, y)\n",
        "\n",
        "    def sigmoid(self, x):\n",
        "        return 1 / (1 + np.exp(-x))\n",
        "\n",
        "    def sigmoid_der(self, x):\n",
        "        return x * (1 - x)\n",
        "\n",
        "    def mse(self, output, target):\n",
        "        return np.mean((output - target) ** 2) / 2\n"
      ],
      "metadata": {
        "id": "J56ohLQGuUcB"
      },
      "execution_count": null,
      "outputs": []
    },
    {
      "cell_type": "markdown",
      "source": [
        "\n",
        "\n",
        "1.   1/2 (output - y) ^ 2\n",
        "2.   1/2 (sigm(z2) - y) ^ 2\n",
        "3.   1/2 (sigm(a1W2) - y) ^ 2\n",
        "4.   1/2 (sigm(sigm(z1)W2) - y) ^ 2\n",
        "5.    1/2 (sigm(sigm(inputsW1)W2) - y) ^ 2\n",
        "* Derivadas\n",
        "6.   (output - y) * sigm'(z2)* a1\n",
        "7.   (output - y) * sigm'(z2) * W2 * sigm'(z1) * inputs\n",
        "\n"
      ],
      "metadata": {
        "id": "ybqv2ptdzijL"
      }
    },
    {
      "cell_type": "code",
      "source": [
        "nuevo = NeuronaXOR(3, 3, 1)\n",
        "print(\"Antes:\")\n",
        "print(nuevo.forward(inputs))\n",
        "\n",
        "errores = []\n",
        "error = 1\n",
        "while error > 0.001:\n",
        "  error = nuevo.backprop(inputs, y, 0.3)\n",
        "  errores.append(error)\n",
        "print(\"Después:\")\n",
        "print(nuevo.forward(inputs))\n",
        "\n",
        "x_axis = range(0, len(errores))\n"
      ],
      "metadata": {
        "colab": {
          "base_uri": "https://localhost:8080/"
        },
        "id": "ioVCjgK00VS6",
        "outputId": "05c61b8c-9022-4e2f-cfba-f390e9e13bc4"
      },
      "execution_count": null,
      "outputs": [
        {
          "output_type": "stream",
          "name": "stdout",
          "text": [
            "Antes:\n",
            "[[0.54430343]\n",
            " [0.55475067]\n",
            " [0.54124899]\n",
            " [0.55168179]]\n",
            "Después:\n",
            "[[0.01404911]\n",
            " [0.95272097]\n",
            " [0.95177778]\n",
            " [0.05690845]]\n"
          ]
        }
      ]
    },
    {
      "cell_type": "code",
      "source": [
        "import matplotlib.pyplot as plt\n",
        "plt.plot(x_axis, errores)\n",
        "plt.show()"
      ],
      "metadata": {
        "id": "zbr3NbpT0mTB",
        "colab": {
          "base_uri": "https://localhost:8080/",
          "height": 430
        },
        "outputId": "5df4c193-4ba7-4b98-ceec-93c10d4128b0"
      },
      "execution_count": null,
      "outputs": [
        {
          "output_type": "display_data",
          "data": {
            "text/plain": [
              "<Figure size 640x480 with 1 Axes>"
            ],
            "image/png": "[encoded data removed]"
          },
          "metadata": {}
        }
      ]
    },
    {
      "cell_type": "code",
      "source": [],
      "metadata": {
        "id": "1kVnQcTm2QB7"
      },
      "execution_count": null,
      "outputs": []
    },
    {
      "cell_type": "code",
      "source": [],
      "metadata": {
        "id": "osEjSZn-0R7y"
      },
      "execution_count": null,
      "outputs": []
    },
    {
      "cell_type": "code",
      "source": [],
      "metadata": {
        "id": "BbSV1SHzzrBz"
      },
      "execution_count": null,
      "outputs": []
    },
    {
      "cell_type": "code",
      "source": [],
      "metadata": {
        "id": "4gjzck_Tznxr"
      },
      "execution_count": null,
      "outputs": []
    },
    {
      "cell_type": "code",
      "source": [],
      "metadata": {
        "id": "gvcAKTVnuqf-"
      },
      "execution_count": null,
      "outputs": []
    },
    {
      "cell_type": "code",
      "source": [],
      "metadata": {
        "id": "CJWe_iQAummR"
      },
      "execution_count": null,
      "outputs": []
    },
    {
      "cell_type": "code",
      "source": [],
      "metadata": {
        "id": "_WREdRoKunph"
      },
      "execution_count": null,
      "outputs": []
    },
    {
      "cell_type": "code",
      "source": [],
      "metadata": {
        "id": "fwVNyH5ys4U6"
      },
      "execution_count": null,
      "outputs": []
    },
    {
      "cell_type": "code",
      "source": [],
      "metadata": {
        "id": "04--ey0vs0bV"
      },
      "execution_count": null,
      "outputs": []
    },
    {
      "cell_type": "code",
      "source": [],
      "metadata": {
        "id": "ILUKMs2tsxvZ"
      },
      "execution_count": null,
      "outputs": []
    },
    {
      "cell_type": "code",
      "source": [],
      "metadata": {
        "id": "501J_ri-ssXo"
      },
      "execution_count": null,
      "outputs": []
    },
    {
      "cell_type": "code",
      "source": [],
      "metadata": {
        "id": "-7Jl0Q2msphJ"
      },
      "execution_count": null,
      "outputs": []
    },
    {
      "cell_type": "code",
      "source": [],
      "metadata": {
        "id": "5x1quCR-sCBM"
      },
      "execution_count": null,
      "outputs": []
    }
  ]
}